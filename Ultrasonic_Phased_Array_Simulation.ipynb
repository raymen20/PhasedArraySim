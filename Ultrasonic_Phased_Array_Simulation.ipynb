{
 "cells": [
  {
   "cell_type": "markdown",
   "id": "cf4b69cd",
   "metadata": {},
   "source": [
    "# Ultrasonic Phased Array Simulation\n",
    "\n",
    "This interactive notebook simulates the pressure field of an ultrasonic phased array.\n",
    "Use the sliders below to modify the number of elements, steering angle, frequency, and spacing factor.\n"
   ]
  },
  {
   "cell_type": "code",
   "execution_count": null,
   "id": "ab15ba51",
   "metadata": {},
   "outputs": [],
   "source": [
    "import numpy as np\n",
    "import matplotlib.pyplot as plt\n",
    "from ipywidgets import interact, IntSlider, FloatSlider\n",
    "\n",
    "def simulate_pressure_field(num_elements=8, steering_angle_deg=30, freq=40000, spacing_factor=0.5):\n",
    "    # Constants\n",
    "    c = 343\n",
    "    wavelength = c / freq\n",
    "    k = 2 * np.pi / wavelength\n",
    "    omega = 2 * np.pi * freq\n",
    "    t = 0\n",
    "    d = spacing_factor * wavelength\n",
    "\n",
    "    # Grid\n",
    "    x_range = np.linspace(-0.2, 0.2, 400)\n",
    "    y_range = np.linspace(0.01, 0.4, 400)\n",
    "    X, Y = np.meshgrid(x_range, y_range)\n",
    "    pressure_field = np.zeros_like(X, dtype=np.complex128)\n",
    "\n",
    "    # Element positions and phase\n",
    "    steering_rad = np.radians(steering_angle_deg)\n",
    "    element_x = np.linspace(-(num_elements - 1) / 2, (num_elements - 1) / 2, num_elements) * d\n",
    "\n",
    "    for n in range(num_elements):\n",
    "        x_n = element_x[n]\n",
    "        phase_n = -k * x_n * np.sin(steering_rad)\n",
    "        r_n = np.sqrt((X - x_n) ** 2 + Y ** 2)\n",
    "        pressure_field += (1 / r_n) * np.exp(1j * (k * r_n - omega * t + phase_n))\n",
    "\n",
    "    # Plot\n",
    "    pressure_magnitude = np.abs(pressure_field)\n",
    "    pressure_magnitude /= np.max(pressure_magnitude)\n",
    "\n",
    "    plt.figure(figsize=(10, 6))\n",
    "    plt.pcolormesh(x_range * 100, y_range * 100, pressure_magnitude, shading='auto', cmap='inferno')\n",
    "    plt.colorbar(label='Normalized Pressure')\n",
    "    plt.title(f'Ultrasonic Interference Pattern\\nN={num_elements}, Steering={steering_angle_deg}°, f={freq/1000:.0f}kHz')\n",
    "    plt.xlabel('X (cm)')\n",
    "    plt.ylabel('Y (cm)')\n",
    "    plt.tight_layout()\n",
    "    plt.show()"
   ]
  },
  {
   "cell_type": "code",
   "execution_count": null,
   "id": "af4d3bc3",
   "metadata": {},
   "outputs": [],
   "source": [
    "interact(\n",
    "    simulate_pressure_field,\n",
    "    num_elements=IntSlider(min=2, max=32, step=2, value=8, description='Elements'),\n",
    "    steering_angle_deg=IntSlider(min=-60, max=60, step=5, value=30, description='Steering (°)'),\n",
    "    freq=IntSlider(min=20000, max=100000, step=5000, value=40000, description='Freq (Hz)'),\n",
    "    spacing_factor=FloatSlider(min=0.3, max=1.0, step=0.05, value=0.5, description='Spacing (λ)')\n",
    ")"
   ]
  }
 ],
 "metadata": {},
 "nbformat": 4,
 "nbformat_minor": 5
}